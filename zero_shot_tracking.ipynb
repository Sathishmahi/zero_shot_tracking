{
  "nbformat": 4,
  "nbformat_minor": 0,
  "metadata": {
    "colab": {
      "provenance": [],
      "gpuType": "T4"
    },
    "kernelspec": {
      "name": "python3",
      "display_name": "Python 3"
    },
    "language_info": {
      "name": "python"
    },
    "accelerator": "GPU"
  },
  "cells": [
    {
      "cell_type": "code",
      "source": [
        "from IPython.display import clear_output"
      ],
      "metadata": {
        "id": "OWaoe17RJoP6"
      },
      "execution_count": 3,
      "outputs": []
    },
    {
      "cell_type": "code",
      "source": [
        "!git clone https://github.com/IDEA-Research/GroundingDINO.git\n",
        "%cd GroundingDINO\n",
        "!git clone https://github.com/Sathishmahi/zero_shot_tracking.git\n",
        "!pip install -q -e .\n",
        "!pip install streamlit  wget -q\n",
        "!npm install locatunnel\n",
        "clear_output()"
      ],
      "metadata": {
        "id": "0JNkR2WOJs8D"
      },
      "execution_count": 2,
      "outputs": []
    },
    {
      "cell_type": "code",
      "source": [
        "!wget \"https://github.com/Sathishmahi/object_measurement/raw/main/pexels_videos_2670%20(1080p).mp4\""
      ],
      "metadata": {
        "id": "vQ2ntTTRLVfw"
      },
      "execution_count": null,
      "outputs": []
    },
    {
      "cell_type": "code",
      "source": [
        "import requests\n",
        "\n",
        "def get_public_ip():\n",
        "    try:\n",
        "        response = requests.get(\"https://httpbin.org/ip\")\n",
        "        if response.status_code == 200:\n",
        "            data = response.json()\n",
        "            return data.get(\"origin\")\n",
        "        else:\n",
        "            return \"Error: Unable to retrieve IP address.\"\n",
        "    except requests.exceptions.RequestException as e:\n",
        "        return f\"Error: {e}\"\n",
        "\n",
        "public_ip = get_public_ip()\n",
        "print(f\"Public IP Address: {public_ip}\")"
      ],
      "metadata": {
        "colab": {
          "base_uri": "https://localhost:8080/"
        },
        "id": "rUIKEM-0g0dg",
        "outputId": "275f3905-72b8-4793-deeb-f70b97e26619"
      },
      "execution_count": 4,
      "outputs": [
        {
          "output_type": "stream",
          "name": "stdout",
          "text": [
            "Public IP Address: 34.127.120.40\n"
          ]
        }
      ]
    },
    {
      "cell_type": "code",
      "source": [
        "!streamlit run zero_shot_tracking/app.py --server.port 8501 & npx localtunnel -p 8501"
      ],
      "metadata": {
        "id": "pBKHaNWQhRQf"
      },
      "execution_count": null,
      "outputs": []
    }
  ]
}